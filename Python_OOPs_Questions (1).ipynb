{
  "nbformat": 4,
  "nbformat_minor": 0,
  "metadata": {
    "colab": {
      "provenance": []
    },
    "kernelspec": {
      "name": "python3",
      "display_name": "Python 3"
    },
    "language_info": {
      "name": "python"
    }
  },
  "cells": [
    {
      "cell_type": "markdown",
      "source": [
        "## Q1. What is Object-Oriented Programming (OOP)?\n",
        "\n",
        " -Object-Oriented Programming (OOP) is a powerful programming paradigm that models software around objects, which are instances of classes—blueprints that define the structure and behavior of those objects. It’s designed to mirror real-world entities and interactions, making code more modular, reusable, and easier to maintain.  \n",
        " 1. Class\n",
        "- A class is like a blueprint or template.\n",
        "- Example: Think of a “Car” class. It defines properties like wheels, speed, and mileage.\n",
        "\n",
        "2. Object\n",
        "- An object is an instance of a class—like a specific car made from the blueprint.\n",
        "- It has identity, state, and behavior.\n",
        "\n",
        "3. Encapsulation\n",
        "- Bundling data and methods that operate on that data into one unit.\n",
        "- Protects internal state by restricting direct access.\n",
        "- Analogy: A pill capsule—everything is wrapped inside.\n",
        "\n",
        "4. Abstraction\n",
        "- Hiding complex implementation details and showing only essential features.\n",
        "- Example: You drive a car without knowing how the engine works.\n",
        "\n",
        "5. Inheritance\n",
        "- One class can inherit properties and methods from another.\n",
        "- Example: A “SportsCar” class can inherit from the “Car” class.\n",
        "\n",
        "6. Polymorphism\n",
        "- Objects can take many forms—same method name behaves differently based on context.\n",
        "- Example: A “draw()” method might draw a circle or a square depending on the object.\n",
        "\n"
      ],
      "metadata": {
        "id": "6ja2EqohtbvB"
      }
    },
    {
      "cell_type": "markdown",
      "source": [
        "## Q2.  What is a class in OOP?  \n",
        "\n",
        " - A class in Object-Oriented Programming (OOP) is like a blueprint or template for creating objects. It defines the attributes (data) and methods (functions) that the objects created from the class will have.  \n",
        " - The class is the architectural plan.\n",
        "- Each object is a real house built from that plan.\n",
        "- All houses share the same structure but can have different colors, furniture, etc.  \n",
        "1. Attributes (Properties)\n",
        "- These are variables that hold data about the object.\n",
        "- Example: name, age, color.\n",
        "2. Methods (Functions)\n",
        "- These define behaviors or actions the object can perform.\n",
        "- Example: drive(), speak(), calculate().\n",
        "\n",
        "\n"
      ],
      "metadata": {
        "id": "4TsvDIyytbyz"
      }
    },
    {
      "cell_type": "markdown",
      "source": [
        "## Q3. What is an object in OOP?  \n",
        "\n",
        " - An object in Object-Oriented Programming (OOP) is a real-world instance of a class. It’s like a physical version of a blueprint—holding actual data and capable of performing actions defined by its class.  \n",
        " - Attributes (state): Data stored in variables (e.g., name, age).\n",
        "- Methods (behavior): Functions that operate on the data (e.g., speak(), drive()).\n",
        "\n"
      ],
      "metadata": {
        "id": "-yU61AJ7tb2l"
      }
    },
    {
      "cell_type": "markdown",
      "source": [
        "## Q4. What is the difference between abstraction and encapsulation?  \n",
        "\n",
        "- These two pillars of Object-Oriented Programming—Abstraction and Encapsulation—often seem similar but serve distinct purposes.  \n",
        " - Abstraction:  \n",
        " 1 Hide complexity and show only essential features.  \n",
        " 2 Exposes only relevant details.  \n",
        " 3 Driving a car without knowing engine mechanics.  \n",
        "\n",
        " - Encapsulation:  \n",
        " 1 Hide internal data and protect it from outside access.  \n",
        " 2 Restricts direct access to internal data.  \n",
        " 3 Engine parts sealed inside the hood.\n",
        "\n",
        "\n"
      ],
      "metadata": {
        "id": "601F0Hf2tb5p"
      }
    },
    {
      "cell_type": "markdown",
      "source": [
        "## Q5. What are dunder methods in Python?  \n",
        "\n",
        " - Dunder methods in Python—short for “double underscore” methods—are special, built-in methods that start and end with double underscores, like __init__, __str__, __len__, etc. They’re also called magic methods, and they allow your custom objects to behave like built-in types.\n"
      ],
      "metadata": {
        "id": "f7LcbybAtb8V"
      }
    },
    {
      "cell_type": "markdown",
      "source": [
        "##Q6. Explain the concept of inheritance in OOP.  \n",
        "\n",
        " - Inheritance in Object-Oriented Programming (OOP) is a mechanism that allows one class (called the child or subclass) to acquire the properties and behaviors (methods and attributes) of another class (called the parent or superclass). It promotes code reuse, modularity, and hierarchical relationships between classes.  \n",
        " Imagine a “Vehicle” class:\n",
        "- It has common features like speed, fuel, and drive().\n",
        "Now you create a “Car” class:\n",
        "- Instead of rewriting everything, you inherit from Vehicle.\n",
        "- You get all its features and can add new ones like air_conditioner or override drive().\n",
        "\n"
      ],
      "metadata": {
        "id": "pqmB0XEByyPn"
      }
    },
    {
      "cell_type": "markdown",
      "source": [
        "##Q7.  What is polymorphism in OOP?  \n",
        "\n",
        " - Polymorphism in Object-Oriented Programming (OOP) is the ability of different objects to respond to the same method call in different ways. Poly means many and morphism means forms/state, refers to an object taking several forms depending on the method/data. Polymorphism in OOP's takes places in two way.  \n",
        " You can call the same method (like make_sound()) on different objects (like Dog, Cat, Cow), and each will behave differently.\n",
        "\n"
      ],
      "metadata": {
        "id": "8Un7JWGzyyTt"
      }
    },
    {
      "cell_type": "markdown",
      "source": [
        "##Q8. How is encapsulation achieved in Python?  \n",
        "\n",
        "  - Encapsulation in Python is achieved by restricting direct access to an object's internal data and exposing it through controlled interfaces—usually methods. This helps protect the integrity of the data and enforces boundaries between different parts of a program.  \n",
        "  Encapsulations means hiding something, bundling of data and method of a class.  \n",
        "  (1) Public, (2) Protected, (3) Private\n"
      ],
      "metadata": {
        "id": "F1GuecxUyyXD"
      }
    },
    {
      "cell_type": "markdown",
      "source": [
        "##Q9. What is a constructor in Python?  \n",
        "\n",
        " - In Python, a constructor is a special method used to initialize objects when they are created from a class. It is automatically called when you create a new instance, and it sets up the object’s initial state.  \n",
        " The constructor in Python is named __init__ (a dunder method—short for “double underscore init”).\n",
        "\n"
      ],
      "metadata": {
        "id": "wj6vmop-yyaD"
      }
    },
    {
      "cell_type": "markdown",
      "source": [
        "##Q10.  What are class and static methods in Python?  \n",
        "\n",
        " - In Python, class methods and static methods are two types of methods that belong to a class but behave differently from regular instance methods. They are used when you want functionality that is related to the class itself, not just individual objects.  \n",
        "  \n",
        "1. Class Method (@classmethod).  \n",
        "A method that receives the class itself as the first argument (cls), not the object (self). Class method use when you want to modify class level data.\n",
        "2. Static Method (@staticmethod).  \n",
        "A method that does not take self or cls—it is independent of both the object and the class. Static method when you does not want you to interact with class level data.\n",
        "\n",
        "\n",
        "\n",
        "\n",
        "\n"
      ],
      "metadata": {
        "id": "QzDMXxpVyyhD"
      }
    },
    {
      "cell_type": "markdown",
      "source": [
        "##Q11. What is method overloading in Python?  \n",
        "\n",
        " - Method Overloading in programming refers to the ability to define multiple methods with the same name but different parameters (number, type, or order). It is a form of compile-time polymorphism. Method overloading Python does not support True method overloading.\n"
      ],
      "metadata": {
        "id": "SEAt-GfmyykE"
      }
    },
    {
      "cell_type": "markdown",
      "source": [
        "##Q12. What is method overriding in OOP?  \n",
        "\n",
        " - Method Overriding in Object-Oriented Programming (OOP) is a powerful feature that allows a child class to provide a specific implementation of a method that is already defined in its parent class. This enables runtime polymorphism, where the method that gets executed depends on the object’s actual type—not just its reference.\n"
      ],
      "metadata": {
        "id": "B96tjCA-yynf"
      }
    },
    {
      "cell_type": "markdown",
      "source": [
        "##Q13. What is a property decorator in Python?  \n",
        "\n",
        "  - In Python, the @property decorator is a powerful tool that lets you define getter methods that behave like attributes. It is part of Python’s approach to encapsulation, allowing you to control access to private data while keeping your syntax clean and intuitive.  \n",
        "  To access methods like attributes, while still having the flexibility to add logic (like validation, formatting, or logging).\n",
        "\n"
      ],
      "metadata": {
        "id": "i9wzhmabyysM"
      }
    },
    {
      "cell_type": "markdown",
      "source": [
        "##Q14. Why is polymorphism important in OOP?  \n",
        "\n",
        " - Polymorphism is crucial in Object-Oriented Programming (OOP) because it brings flexibility, scalability, and clean design to your code. It allows objects of different classes to be treated through a common interface, while still behaving according to their own unique implementations.  \n",
        " 1. Code Reusability\n",
        "- You can write functions or methods that work with multiple types of objects.\n",
        "- Example: A draw() function can work with Circle, Square, or Triangle objects.\n",
        "2. Scalability\n",
        "- As your system grows, you can add new classes without changing existing code.\n",
        "3. Cleaner Code\n",
        "- You avoid long if-else or switch statements checking object types.\n",
        "\n",
        "\n"
      ],
      "metadata": {
        "id": "aaGxef2myyws"
      }
    },
    {
      "cell_type": "markdown",
      "source": [
        "##Q15. What is an abstract class in Python?  \n",
        "\n",
        " - An abstract class in Python is a class that cannot be instantiated directly and is meant to serve as a base class for other classes. It defines a common interface for its subclasses but may leave some methods unimplemented, forcing child classes to provide their own versions.\n"
      ],
      "metadata": {
        "id": "rO2OV8gjyyzp"
      }
    },
    {
      "cell_type": "markdown",
      "source": [
        "##Q16. What are the advantages of OOP?  \n",
        "\n",
        " - Object-Oriented Programming (OOP) offers a powerful way to structure and manage complex software systems. Its advantages go far beyond just organizing code—they shape how we think, scale, and collaborate in development.  \n",
        " 1. Modularity\n",
        "- Code is organized into classes and objects.\n",
        "- Each class handles a specific responsibility.\n",
        "\n",
        "2. Reusability\n",
        "- Once a class is written, it can be reused across projects.\n",
        "- Inheritance allows child classes to reuse parent logic.\n",
        "- Example: A Vehicle class can be reused for Car, Bike, Truck.\n",
        "\n",
        "3. Scalability\n",
        "- Easy to add new features or classes without disturbing existing code.\n",
        "- Promotes clean architecture for large systems.\n",
        "\n",
        "4. Maintainability\n",
        "- Encapsulation hides internal details, making debugging and updates easier.\n",
        "- Changes in one class don’t affect others unnecessarily.\n",
        "\n",
        "5. Security\n",
        "- Encapsulation protects sensitive data using private attributes and controlled access.\n",
        "- You decide what is visible and what is hidden.\n",
        "\n",
        "6. Polymorphism\n",
        "- Same method name behaves differently across classes.\n",
        "- Enables flexible and dynamic code.\n",
        "- Example: draw() method works for Circle, Square, Triangle.\n",
        "\n",
        "7. Abstraction\n",
        "- Hides complex logic and exposes only what is necessary.\n",
        "- Keeps interfaces clean and user-friendly.\n",
        "- Example: You use a washing machine without knowing its internal wiring.\n",
        "\n",
        "\n"
      ],
      "metadata": {
        "id": "QZIQ4YNo9IX1"
      }
    },
    {
      "cell_type": "markdown",
      "source": [
        "##Q17.  What is the difference between a class variable and an instance variable?  \n",
        "\n",
        " - Class Variables\n",
        "Class variables, also known as static variables, are variables that are shared among all instances of a class. They are declared within the class but outside any method or constructor. One of the key attributes of class variables is that they are associated with the class itself rather than any specific instance of the class. This means that any modification made to a class variable will be reflected in all instances of the class.  \n",
        "  Class variables are typically used to store data that is common to all instances of a class. For example, in a class representing a car, a class variable could be used to store the number of wheels, which would be the same for all cars. Another common use case for class variables is to keep track of the number of instances created from a class.   \n",
        "  Accessing class variables is done using the class name followed by the variable name. Since class variables are shared among all instances, they can be accessed without creating an instance of the class. However, it is also possible to access class variables through an instance of the class.  \n",
        " -  Instance Variables\n",
        "Instance variables, also known as non-static variables, are variables that are unique to each instance of a class. They are declared within the class but outside any method or constructor, just like class variables. However, unlike class variables, each instance of the class has its own copy of instance variables.  \n",
        "Instance variables are used to store data that is specific to each instance of a class. For example, in a class representing a person, instance variables could be used to store the person's name, age, and address. Each person object would have its own set of instance variables with different values.  \n",
        "Accessing instance variables is done through an instance of the class. Each instance has its own set of instance variables, and any modifications made to these variables only affect the specific instance. This allows for individual customization and manipulation of data within each instance."
      ],
      "metadata": {
        "id": "6WxbeGJi9Ibf"
      }
    },
    {
      "cell_type": "markdown",
      "source": [
        "##Q18. What is multiple inheritance in Python?  \n",
        "\n",
        " - Multiple inheritance in Python is a powerful object-oriented feature that allows a class to inherit attributes and methods from more than one parent class. This means a child class can combine behaviors from multiple sources.  \n",
        " Example-  \n",
        " class Father:  \n",
        "    def Fav_games(self):  \n",
        "        print(\"Cricket, Bollyball\")  \n",
        "        class Mother:  \n",
        "    def Fav_Colour(self):  \n",
        "        print(\"DarkRed, White\")  \n",
        "        class Child(Father, Mother):  # Multiple inheritance  \n",
        "    pass  \n",
        "    c = Child()  \n",
        "    c.Fav_games()    # Inherited from Father  \n",
        "    c.Fav_Colour()   # Inherited from Mother  \n",
        "    Output:   \n",
        "    Cricket, Bollyball  \n",
        "DarkRed, White"
      ],
      "metadata": {
        "id": "m4e53v1n9Ih9"
      }
    },
    {
      "cell_type": "markdown",
      "source": [
        "##Q19. Explain the purpose of ‘’__str__’ and ‘__repr__’ ‘ methods in Python?  \n",
        "\n",
        " - In the world of Python programming, there are two special methods, str and repr, that are fundamental for customizing how objects are represented as strings. Although they might seem similar at first glance, they serve distinct purposes and understanding their differences is crucial for writing clean, maintainable code.  \n",
        " - __str__: This method is called by the __str__() built-in function and the print statement to display a readable string representation of an object. It is intended to provide a human-readable output.  \n",
        " - __repr__: This method is called by the __repr__() built-in function and by Python’s interactive interpreter to generate a representation of the object. It should be unambiguous and, ideally, should allow the object to be recreated using the eval() function."
      ],
      "metadata": {
        "id": "V2FY8RF09IlW"
      }
    },
    {
      "cell_type": "markdown",
      "source": [
        "##Q20.  What is the significance of the ‘super()’ function in Python?  \n",
        "\n",
        " - The super() function in Python is a powerful tool used primarily in inheritance to give child classes access to methods and properties of their parent class—without explicitly naming the parent. It’s especially useful when working with multiple inheritance or overriding methods.  \n",
        "\n"
      ],
      "metadata": {
        "id": "V_mIzN1P9IoR"
      }
    },
    {
      "cell_type": "markdown",
      "source": [
        "##Q21. What is the significance of the __del__ method in Python?  \n",
        "\n",
        " - The __del__ method in Python is a special or \"magic\" method, also known as a destructor. It is automatically invoked when an object is about to be destroyed, typically when its reference count drops to zero. This method is useful for performing cleanup tasks such as releasing external resources like file handles, network connections, or database connections.  \n",
        " class MyClass:  \n",
        "   def __del__(self):  \n",
        "       # Cleanup code here  \n",
        "       print(\"Object is being destroyed\")"
      ],
      "metadata": {
        "id": "tBslFym79IuE"
      }
    },
    {
      "cell_type": "markdown",
      "source": [
        "##Q22.  What is the difference between @staticmethod and @classmethod in Python?  \n",
        "\n",
        "  - In Python, @classmethod and @staticmethod are decorators used to define methods that are associated with a class rather than its instances. While both are bound to the class, they serve distinct purposes and have different behaviors.  \n",
        "  - @classmethod:  \n",
        "  A class method is defined using the @classmethod decorator. It takes the class itself (cls) as its first argument, allowing it to access or modify class-level attributes. Class methods are often used for factory methods or operations that need to interact with the class rather than specific instances.  \n",
        "  - @staticmethod:  \n",
        "  A static method is defined using the @staticmethod decorator. Unlike class methods, it does not take cls or self as its first argument. Static methods are utility functions that belong to a class but do not require access to class or instance data.\n"
      ],
      "metadata": {
        "id": "nQqRF7Tf9Ixh"
      }
    },
    {
      "cell_type": "markdown",
      "source": [
        "##Q23.  How does polymorphism work in Python with inheritance?  \n",
        "\n",
        " - Polymorphism, a core concept in Object-Oriented Programming (OOP), allows objects of different classes to respond to the same method or function call in their unique ways. This makes code more flexible, reusable, and easier to maintain.  \n",
        " Example:  \n",
        " class Dog:  \n",
        "   def sound(self):  \n",
        "       return \"Bark\"  \n",
        "       class Cat:  \n",
        "   def sound(self):   \n",
        "       return \"Meow\"  #Polymorphic behavior  \n",
        "       animals = [Dog(), Cat()]  \n",
        "       for animal in animals:  \n",
        "   print(animal.sound())  #Output Bark\n",
        "Meow"
      ],
      "metadata": {
        "id": "9Ztpm-O09I0Y"
      }
    },
    {
      "cell_type": "markdown",
      "source": [
        "##Q24. What is method chaining in Python OOP?  \n",
        "\n",
        " - Method chaining in Python OOP is a programming technique where multiple methods are called sequentially on the same object in a single line, with each method returning the object itself (typically self). This allows for a fluent and compact style of coding, often used to build or modify objects step by step.   \n",
        " Method chaining is the process of invoking multiple methods on the same object consecutively, where each method returns the object itself to enable the next method call.\n"
      ],
      "metadata": {
        "id": "NPccnxjz9I2_"
      }
    },
    {
      "cell_type": "markdown",
      "source": [
        "##Q25.  What is the purpose of the __call__ method in Python?  \n",
        "\n",
        " - The __call__ method in Python is a special method that allows an instance of a class to behave like a function. When defined in a class, calling an instance of that class (e.g., instance(args)) automatically invokes the __call__ method. This feature is particularly useful for creating flexible, reusable, and function-like objects.  \n",
        "  For example:  \n",
        "  class Example:  \n",
        "   def __call__(self, x):  \n",
        "       return x * 2  \n",
        "       obj = Example()  \n",
        "       print(obj(5)) # Output: 10"
      ],
      "metadata": {
        "id": "IdP3EoF_9I9f"
      }
    },
    {
      "cell_type": "code",
      "source": [
        "# Q1.  Create a parent class Animal with a method speak() that prints a generic message. Create a child class Dog\n",
        "# that overrides the speak() method to print \"Bark!\".\n",
        "'''\n",
        "# Parent class\n",
        "class Animal:\n",
        "    def speak(self):\n",
        "        print(\"The animal makes a sound.\")\n",
        "\n",
        "# Child class\n",
        "class Dog(Animal):\n",
        "    def speak(self):\n",
        "        print(\"Bark!\")\n",
        "\n",
        "# Example usage\n",
        "generic_animal = Animal()\n",
        "generic_animal.speak()  # Output: The animal makes a sound.\n",
        "\n",
        "dog = Dog()\n",
        "dog.speak()  # Output: Bark!\n",
        "'''"
      ],
      "metadata": {
        "colab": {
          "base_uri": "https://localhost:8080/"
        },
        "id": "0ngkW2bd7Ock",
        "outputId": "e349c398-f3ba-4626-9eb7-aefe16e79b02"
      },
      "execution_count": 1,
      "outputs": [
        {
          "output_type": "stream",
          "name": "stdout",
          "text": [
            "The animal makes a sound.\n",
            "Bark!\n"
          ]
        }
      ]
    },
    {
      "cell_type": "code",
      "source": [
        "# Q2. . Write a program to create an abstract class Shape with a method area(). Derive classes Circle and Rectangle\n",
        "# from it and implement the area() method in both.\n",
        "'''\n",
        "from abc import ABC, abstractmethod\n",
        "import math\n",
        "\n",
        "# Abstract base class\n",
        "class Shape(ABC):\n",
        "    @abstractmethod\n",
        "    def area(self):\n",
        "        pass\n",
        "\n",
        "# Circle class\n",
        "class Circle(Shape):\n",
        "    def __init__(self, radius):\n",
        "        self.radius = radius\n",
        "\n",
        "    def area(self):\n",
        "        return math.pi * self.radius ** 2\n",
        "\n",
        "# Rectangle class\n",
        "class Rectangle(Shape):\n",
        "    def __init__(self, width, height):\n",
        "        self.width = width\n",
        "        self.height = height\n",
        "\n",
        "    def area(self):\n",
        "        return self.width * self.height\n",
        "\n",
        "circle = Circle(5)\n",
        "rectangle = Rectangle(4, 6)\n",
        "\n",
        "print(f\"Area of Circle: {circle.area():.2f}\")      # Output: Area of Circle: 78.54\n",
        "print(f\"Area of Rectangle: {rectangle.area()}\")    # Output: Area of Rectangle: 24\n",
        "'''"
      ],
      "metadata": {
        "colab": {
          "base_uri": "https://localhost:8080/"
        },
        "id": "bJEWATgj7O1t",
        "outputId": "99117252-5d31-44c6-f2ae-54df22e0526e"
      },
      "execution_count": 2,
      "outputs": [
        {
          "output_type": "stream",
          "name": "stdout",
          "text": [
            "Area of Circle: 78.54\n",
            "Area of Rectangle: 24\n"
          ]
        }
      ]
    },
    {
      "cell_type": "code",
      "source": [
        "# Q3. Implement a multi-level inheritance scenario where a class Vehicle has an attribute type. Derive a class Car\n",
        "# and further derive a class ElectricCar that adds a battery attribute.\n",
        "'''\n",
        "# Base class\n",
        "class Vehicle:\n",
        "    def __init__(self, vehicle_type):\n",
        "        self.type = vehicle_type\n",
        "\n",
        "    def show_type(self):\n",
        "        print(f\"Vehicle Type: {self.type}\")\n",
        "\n",
        "# Derived class from Vehicle\n",
        "class Car(Vehicle):\n",
        "    def __init__(self, vehicle_type, brand):\n",
        "        super().__init__(vehicle_type)\n",
        "        self.brand = brand\n",
        "\n",
        "    def show_brand(self):\n",
        "        print(f\"Car Brand: {self.brand}\")\n",
        "\n",
        "# Further derived class from Car\n",
        "class ElectricCar(Car):\n",
        "    def __init__(self, vehicle_type, brand, battery_capacity):\n",
        "        super().__init__(vehicle_type, brand)\n",
        "        self.battery = battery_capacity\n",
        "\n",
        "    def show_battery(self):\n",
        "        print(f\"Battery Capacity: {self.battery} kWh\")\n",
        "\n",
        "# Example usage\n",
        "e_car = ElectricCar(\"Four Wheeler\", \"Tata Motors\", 35)\n",
        "e_car.show_type()      # Output: Vehicle Type: Four Wheeler\n",
        "e_car.show_brand()     # Output: Car Brand: Tata Motors\n",
        "e_car.show_battery()   # Output: Battery Capacity: 35 kWh\n",
        "'''"
      ],
      "metadata": {
        "colab": {
          "base_uri": "https://localhost:8080/"
        },
        "id": "4n6CX5v47O4Q",
        "outputId": "c993cc3d-9d54-43dd-9b72-3cbe55680673"
      },
      "execution_count": 3,
      "outputs": [
        {
          "output_type": "stream",
          "name": "stdout",
          "text": [
            "Vehicle Type: Four Wheeler\n",
            "Car Brand: Tata Motors\n",
            "Battery Capacity: 35 kWh\n"
          ]
        }
      ]
    },
    {
      "cell_type": "code",
      "source": [
        "# Q4. Demonstrate polymorphism by creating a base class Bird with a method fly(). Create two derived classes\n",
        "# Sparrow and Penguin that override the fly() method.\n",
        "'''\n",
        "# Base class\n",
        "class Bird:\n",
        "    def fly(self):\n",
        "        print(\"This bird can fly.\")\n",
        "\n",
        "# Derived class: Sparrow\n",
        "class Sparrow(Bird):\n",
        "    def fly(self):\n",
        "        print(\"Sparrow flies swiftly through the sky.\")\n",
        "\n",
        "# Derived class: Penguin\n",
        "class Penguin(Bird):\n",
        "    def fly(self):\n",
        "        print(\"Penguins can't fly, but they swim like torpedoes!\")\n",
        "\n",
        "# Polymorphic behavior\n",
        "def bird_flight(bird):\n",
        "    bird.fly()\n",
        "\n",
        "# Example usage\n",
        "sparrow = Sparrow()\n",
        "penguin = Penguin()\n",
        "\n",
        "bird_flight(sparrow)   # Output: Sparrow flies swiftly through the sky.\n",
        "bird_flight(penguin)   # Output: Penguins can't fly, but they swim like torpedoes!\n",
        "'''"
      ],
      "metadata": {
        "colab": {
          "base_uri": "https://localhost:8080/"
        },
        "id": "dkoeYR6h7O6y",
        "outputId": "023e72d5-9894-4e76-a469-50a84438a4b9"
      },
      "execution_count": 4,
      "outputs": [
        {
          "output_type": "stream",
          "name": "stdout",
          "text": [
            "Sparrow flies swiftly through the sky.\n",
            "Penguins can't fly, but they swim like torpedoes!\n"
          ]
        }
      ]
    },
    {
      "cell_type": "code",
      "source": [
        "# Q5. Write a program to demonstrate encapsulation by creating a class BankAccount with private attributes\n",
        "# balance and methods to deposit, withdraw, and check balance.\n",
        "'''\n",
        "class BankAccount:\n",
        "    def __init__(self, initial_balance=0):\n",
        "        self.__balance = initial_balance  # Private attribute\n",
        "\n",
        "    def deposit(self, amount):\n",
        "        if amount > 0:\n",
        "            self.__balance += amount\n",
        "            print(f\"Deposited ₹{amount}.\")\n",
        "        else:\n",
        "            print(\"Deposit amount must be positive.\")\n",
        "\n",
        "    def withdraw(self, amount):\n",
        "        if 0 < amount <= self.__balance:\n",
        "            self.__balance -= amount\n",
        "            print(f\"Withdrew ₹{amount}.\")\n",
        "        else:\n",
        "            print(\"Insufficient balance or invalid amount.\")\n",
        "\n",
        "    def check_balance(self):\n",
        "        print(f\"Current Balance: ₹{self.__balance}\")\n",
        "\n",
        "# Example usage\n",
        "account = BankAccount(1000)\n",
        "account.check_balance()     # Output: Current Balance: ₹1000\n",
        "account.deposit(500)        # Output: Deposited ₹500.\n",
        "account.withdraw(300)       # Output: Withdrew ₹300.\n",
        "account.check_balance()     # Output: Current Balance: ₹1200\n",
        "'''"
      ],
      "metadata": {
        "colab": {
          "base_uri": "https://localhost:8080/"
        },
        "id": "DfGOmsp97O9l",
        "outputId": "3ce63696-7766-43a9-cf6e-0a13065dbddd"
      },
      "execution_count": 5,
      "outputs": [
        {
          "output_type": "stream",
          "name": "stdout",
          "text": [
            "Current Balance: ₹1000\n",
            "Deposited ₹500.\n",
            "Withdrew ₹300.\n",
            "Current Balance: ₹1200\n"
          ]
        }
      ]
    },
    {
      "cell_type": "code",
      "source": [
        "# Q6. Demonstrate runtime polymorphism using a method play() in a base class Instrument. Derive classes Guitar\n",
        "# and Piano that implement their own version of play().\n",
        "'''\n",
        "# Base class\n",
        "class Instrument:\n",
        "    def play(self):\n",
        "        print(\"Playing an instrument.\")\n",
        "\n",
        "# Derived class: Guitar\n",
        "class Guitar(Instrument):\n",
        "    def play(self):\n",
        "        print(\"Strumming the guitar strings.\")\n",
        "\n",
        "# Derived class: Piano\n",
        "class Piano(Instrument):\n",
        "    def play(self):\n",
        "        print(\"Pressing the piano keys.\")\n",
        "\n",
        "# Function demonstrating runtime polymorphism\n",
        "def perform(instrument: Instrument):\n",
        "    instrument.play()\n",
        "\n",
        "# Example usage\n",
        "guitar = Guitar()\n",
        "piano = Piano()\n",
        "\n",
        "perform(guitar)  # Output: Strumming the guitar strings.\n",
        "perform(piano)   # Output: Pressing the piano keys.\n",
        "'''"
      ],
      "metadata": {
        "colab": {
          "base_uri": "https://localhost:8080/"
        },
        "id": "rHMjyeu-7PAW",
        "outputId": "56a2cb02-f556-4e9d-d7d3-4d9db452d8a3"
      },
      "execution_count": 6,
      "outputs": [
        {
          "output_type": "stream",
          "name": "stdout",
          "text": [
            "Strumming the guitar strings.\n",
            "Pressing the piano keys.\n"
          ]
        }
      ]
    },
    {
      "cell_type": "code",
      "source": [
        "# Q7. Create a class MathOperations with a class method add_numbers() to add two numbers and a static\n",
        "# method subtract_numbers() to subtract two numbers.\n",
        "'''\n",
        "class MathOperations:\n",
        "    @classmethod\n",
        "    def add_numbers(cls, a, b):\n",
        "        return a + b\n",
        "\n",
        "    @staticmethod\n",
        "    def subtract_numbers(a, b):\n",
        "        return a - b\n",
        "\n",
        "# Example usage\n",
        "print(\"Addition:\", MathOperations.add_numbers(10, 5))     # Output: Addition: 15\n",
        "print(\"Subtraction:\", MathOperations.subtract_numbers(10, 5))  # Output: Subtraction: 5\n",
        "'''"
      ],
      "metadata": {
        "colab": {
          "base_uri": "https://localhost:8080/"
        },
        "id": "LXQ8MLyS7PD8",
        "outputId": "7468ea6b-5e16-45aa-9525-2bcf01210336"
      },
      "execution_count": 7,
      "outputs": [
        {
          "output_type": "stream",
          "name": "stdout",
          "text": [
            "Addition: 15\n",
            "Subtraction: 5\n"
          ]
        }
      ]
    },
    {
      "cell_type": "code",
      "source": [
        "# Q8. Implement a class Person with a class method to count the total number of persons created.\n",
        "'''\n",
        "class Person:\n",
        "    count = 0  # Class variable to track number of persons\n",
        "\n",
        "    def __init__(self, name):\n",
        "        self.name = name\n",
        "        Person.count += 1\n",
        "\n",
        "    @classmethod\n",
        "    def total_persons(cls):\n",
        "        print(f\"Total Persons Created: {cls.count}\")\n",
        "\n",
        "# Example usage\n",
        "p1 = Person(\"Ajay\")\n",
        "p2 = Person(\"Raman\")\n",
        "p3 = Person(\"Aman\")\n",
        "p4 = Person(\"Raj\")\n",
        "\n",
        "Person.total_persons()  # Output: Total Persons Created: 4\n",
        "'''"
      ],
      "metadata": {
        "colab": {
          "base_uri": "https://localhost:8080/"
        },
        "id": "f4EL983jBxFB",
        "outputId": "a405daf4-1050-4731-9fd9-b617093e9160"
      },
      "execution_count": 11,
      "outputs": [
        {
          "output_type": "stream",
          "name": "stdout",
          "text": [
            "Total Persons Created: 4\n"
          ]
        }
      ]
    },
    {
      "cell_type": "code",
      "source": [
        "# Q9. Write a class Fraction with attributes numerator and denominator. Override the str method to display the\n",
        "# fraction as \"numerator/denominator\".\n",
        "'''\n",
        "class Fraction:\n",
        "    def __init__(self, numerator, denominator):\n",
        "        self.numerator = numerator\n",
        "        self.denominator = denominator\n",
        "\n",
        "    def __str__(self):\n",
        "        return f\"{self.numerator}/{self.denominator}\"\n",
        "\n",
        "# Example usage\n",
        "f1 = Fraction(3, 4)\n",
        "f2 = Fraction(7, 2)\n",
        "\n",
        "print(f1)  # Output: 3/4\n",
        "print(f2)  # Output: 7/2\n",
        "'''"
      ],
      "metadata": {
        "colab": {
          "base_uri": "https://localhost:8080/"
        },
        "id": "fnp274r1CsE7",
        "outputId": "48a32c47-cfc5-4407-8e22-370a2de34f7c"
      },
      "execution_count": 12,
      "outputs": [
        {
          "output_type": "stream",
          "name": "stdout",
          "text": [
            "3/4\n",
            "7/2\n"
          ]
        }
      ]
    },
    {
      "cell_type": "code",
      "source": [
        "# Q10. Demonstrate operator overloading by creating a class Vector and overriding the add method to add two\n",
        "# vectors.\n",
        "'''\n",
        "class Vector:\n",
        "    def __init__(self, x, y):\n",
        "        self.x = x\n",
        "        self.y = y\n",
        "\n",
        "    def __add__(self, other):\n",
        "        if isinstance(other, Vector):\n",
        "            return Vector(self.x + other.x, self.y + other.y)\n",
        "        return NotImplemented\n",
        "\n",
        "    def __str__(self):\n",
        "        return f\"Vector({self.x}, {self.y})\"\n",
        "\n",
        "# Example usage\n",
        "v1 = Vector(2, 3)\n",
        "v2 = Vector(4, 5)\n",
        "v3 = v1 + v2\n",
        "\n",
        "print(v1)  # Output: Vector(2, 3)\n",
        "print(v2)  # Output: Vector(4, 5)\n",
        "print(v3)  # Output: Vector(6, 8)\n",
        "'''"
      ],
      "metadata": {
        "colab": {
          "base_uri": "https://localhost:8080/"
        },
        "id": "f8bcp0CJDdJz",
        "outputId": "405586a3-d6db-4890-814f-18f158634ea3"
      },
      "execution_count": 13,
      "outputs": [
        {
          "output_type": "stream",
          "name": "stdout",
          "text": [
            "Vector(2, 3)\n",
            "Vector(4, 5)\n",
            "Vector(6, 8)\n"
          ]
        }
      ]
    },
    {
      "cell_type": "code",
      "source": [
        "# Q11. Create a class Person with attributes name and age. Add a method greet() that prints \"Hello, my name is\n",
        "# {name} and I am {age} years old.\"\n",
        "'''\n",
        "class Person:\n",
        "    def __init__(self, name, age):\n",
        "        self.name = name\n",
        "        self.age = age\n",
        "\n",
        "    def greet(self):\n",
        "        print(f\"Hello, my name is {self.name} and I am {self.age} years old.\")\n",
        "\n",
        "# Example usage\n",
        "p1 = Person(\"Shekh\", 25)\n",
        "p1.greet()  # Output: Hello, my name is Shekh and I am 25 years old.\n",
        "'''"
      ],
      "metadata": {
        "colab": {
          "base_uri": "https://localhost:8080/"
        },
        "id": "nWHcG4rVD2iE",
        "outputId": "1df1da44-7d09-445a-ce06-ca08e5d21e46"
      },
      "execution_count": 14,
      "outputs": [
        {
          "output_type": "stream",
          "name": "stdout",
          "text": [
            "Hello, my name is Shekh and I am 25 years old.\n"
          ]
        }
      ]
    },
    {
      "cell_type": "code",
      "source": [
        "# Q12. Implement a class Student with attributes name and grades. Create a method average_grade() to compute\n",
        "# the average of the grades.\n",
        "'''\n",
        "class Student:\n",
        "    def __init__(self, name, grades):\n",
        "        self.name = name\n",
        "        self.grades = grades  # Expecting a list of numbers\n",
        "\n",
        "    def average_grade(self):\n",
        "        if self.grades:\n",
        "            return sum(self.grades) / len(self.grades)\n",
        "        else:\n",
        "            return 0.0\n",
        "\n",
        "# Example usage\n",
        "s1 = Student(\"Rahul\", [85, 90, 78, 92])\n",
        "print(f\"{s1.name}'s average grade is: {s1.average_grade():.2f}\")  # Output: Rahul's average grade is: 86.25\n",
        "'''"
      ],
      "metadata": {
        "colab": {
          "base_uri": "https://localhost:8080/"
        },
        "id": "DHUk_uNvEWml",
        "outputId": "107ad395-ab85-4342-b003-5ebfbdeca92a"
      },
      "execution_count": 15,
      "outputs": [
        {
          "output_type": "stream",
          "name": "stdout",
          "text": [
            "Rahul's average grade is: 86.25\n"
          ]
        }
      ]
    },
    {
      "cell_type": "code",
      "source": [
        "# Q13. Create a class Rectangle with methods set_dimensions() to set the dimensions and area() to calculate the\n",
        "# area.\n",
        "'''\n",
        "class Rectangle:\n",
        "    def __init__(self):\n",
        "        self.length = 0\n",
        "        self.width = 0\n",
        "\n",
        "    def set_dimensions(self, length, width):\n",
        "        self.length = length\n",
        "        self.width = width\n",
        "\n",
        "    def area(self):\n",
        "        return self.length * self.width\n",
        "\n",
        "# Example usage\n",
        "rect = Rectangle()\n",
        "rect.set_dimensions(10, 5)\n",
        "print(f\"Area of Rectangle: {rect.area()}\")  # Output: Area of Rectangle: 50\n",
        "'''"
      ],
      "metadata": {
        "colab": {
          "base_uri": "https://localhost:8080/"
        },
        "id": "kxaaBhVBFGLw",
        "outputId": "7a0534d5-fd50-4114-ff11-70eeac23ffc8"
      },
      "execution_count": 16,
      "outputs": [
        {
          "output_type": "stream",
          "name": "stdout",
          "text": [
            "Area of Rectangle: 50\n"
          ]
        }
      ]
    },
    {
      "cell_type": "code",
      "source": [
        "# Q 14. Create a class Employee with a method calculate_salary() that computes the salary based on hours worked\n",
        "# and hourly rate. Create a derived class Manager that adds a bonus to the salary.\n",
        "'''\n",
        "# Base class\n",
        "class Employee:\n",
        "    def __init__(self, name, hours_worked, hourly_rate):\n",
        "        self.name = name\n",
        "        self.hours_worked = hours_worked\n",
        "        self.hourly_rate = hourly_rate\n",
        "\n",
        "    def calculate_salary(self):\n",
        "        return self.hours_worked * self.hourly_rate\n",
        "\n",
        "# Derived class\n",
        "class Manager(Employee):\n",
        "    def __init__(self, name, hours_worked, hourly_rate, bonus):\n",
        "        super().__init__(name, hours_worked, hourly_rate)\n",
        "        self.bonus = bonus\n",
        "\n",
        "    def calculate_salary(self):\n",
        "        base_salary = super().calculate_salary()\n",
        "        return base_salary + self.bonus\n",
        "\n",
        "# Example usage\n",
        "emp = Employee(\"Rahul\", 40, 200)\n",
        "mgr = Manager(\"Ravi\", 40, 200, 5000)\n",
        "\n",
        "print(f\"{emp.name}'s Salary: ₹{emp.calculate_salary()}\")   # Output: Rahul's Salary: ₹8000\n",
        "print(f\"{mgr.name}'s Salary: ₹{mgr.calculate_salary()}\")   # Output: Ravi's Salary: ₹13000\n",
        "'''"
      ],
      "metadata": {
        "colab": {
          "base_uri": "https://localhost:8080/"
        },
        "id": "_tNBr0JRFN5t",
        "outputId": "8aec9a7d-7aab-4346-e38a-ab32df1d30c9"
      },
      "execution_count": 17,
      "outputs": [
        {
          "output_type": "stream",
          "name": "stdout",
          "text": [
            "Rahul's Salary: ₹8000\n",
            "Ravi's Salary: ₹13000\n"
          ]
        }
      ]
    },
    {
      "cell_type": "code",
      "source": [
        "# Q15. Create a class Product with attributes name, price, and quantity. Implement a method total_price() that\n",
        "# calculates the total price of the product.\n",
        "'''\n",
        "class Product:\n",
        "    def __init__(self, name, price, quantity):\n",
        "        self.name = name\n",
        "        self.price = price\n",
        "        self.quantity = quantity\n",
        "\n",
        "    def total_price(self):\n",
        "        return self.price * self.quantity\n",
        "\n",
        "# Example usage\n",
        "p1 = Product(\"Laptop\", 55000, 2)\n",
        "p2 = Product(\"Notebook\", 40, 5)\n",
        "\n",
        "print(f\"{p1.name} Total Price: ₹{p1.total_price()}\")  # Output: Laptop Total Price: ₹110000\n",
        "print(f\"{p2.name} Total Price: ₹{p2.total_price()}\")  # Output: Notebook Total Price: ₹200\n",
        "'''"
      ],
      "metadata": {
        "colab": {
          "base_uri": "https://localhost:8080/"
        },
        "id": "PoVOHaXnFN7-",
        "outputId": "9d60f2d1-9195-4e12-ee4e-c9f8ac039397"
      },
      "execution_count": 18,
      "outputs": [
        {
          "output_type": "stream",
          "name": "stdout",
          "text": [
            "Laptop Total Price: ₹110000\n",
            "Notebook Total Price: ₹200\n"
          ]
        }
      ]
    },
    {
      "cell_type": "code",
      "source": [
        "# Q16. Create a class Animal with an abstract method sound(). Create two derived classes Cow and Sheep that\n",
        "# implement the sound() method.\n",
        "'''\n",
        "from abc import ABC, abstractmethod\n",
        "\n",
        "# Abstract base class\n",
        "class Animal(ABC):\n",
        "    @abstractmethod\n",
        "    def sound(self):\n",
        "        pass\n",
        "# Derived class: Cow\n",
        "class Cow(Animal):\n",
        "    def sound(self):\n",
        "        print(\"Cow says Moo!\")\n",
        "\n",
        "# Derived class: Sheep\n",
        "class Sheep(Animal):\n",
        "    def sound(self):\n",
        "        print(\"Sheep says Baa!\")\n",
        "\n",
        "# Example usage\n",
        "cow = Cow()\n",
        "sheep = Sheep()\n",
        "\n",
        "cow.sound()    # Output: Cow says Moo!\n",
        "sheep.sound()  # Output: Sheep says Baa!\n",
        "'''"
      ],
      "metadata": {
        "colab": {
          "base_uri": "https://localhost:8080/"
        },
        "id": "EbOPLI4IFOAu",
        "outputId": "9670249f-aebc-4e50-91a2-4cd2d3d22fec"
      },
      "execution_count": 19,
      "outputs": [
        {
          "output_type": "stream",
          "name": "stdout",
          "text": [
            "Cow says Moo!\n",
            "Sheep says Baa!\n"
          ]
        }
      ]
    },
    {
      "cell_type": "code",
      "source": [
        "# Q 17. Create a class Book with attributes title, author, and year_published. Add a method get_book_info() that\n",
        "# returns a formatted string with the book's details.\n",
        "'''\n",
        "class Book:\n",
        "    def __init__(self, title, author, year_published):\n",
        "        self.title = title\n",
        "        self.author = author\n",
        "        self.year_published = year_published\n",
        "\n",
        "    def get_book_info(self):\n",
        "        return f\"'{self.title}' by {self.author}, published in {self.year_published}.\"\n",
        "\n",
        "# Example usage\n",
        "book1 = Book(\"The Alchemist\", \"Paulo Coelho\", 1988)\n",
        "book2 = Book(\"Wings of Fire\", \"A.P.J. Abdul Kalam\", 1999)\n",
        "\n",
        "print(book1.get_book_info())  # Output: 'The Alchemist' by Paulo Coelho, published in 1988.\n",
        "print(book2.get_book_info())  # Output: 'Wings of Fire' by A.P.J. Abdul Kalam, published in 1999.\n",
        "'''"
      ],
      "metadata": {
        "colab": {
          "base_uri": "https://localhost:8080/"
        },
        "id": "rarL9VztFODE",
        "outputId": "8ff9ed03-e657-4e01-98d3-a09e5810a4d3"
      },
      "execution_count": 20,
      "outputs": [
        {
          "output_type": "stream",
          "name": "stdout",
          "text": [
            "'The Alchemist' by Paulo Coelho, published in 1988.\n",
            "'Wings of Fire' by A.P.J. Abdul Kalam, published in 1999.\n"
          ]
        }
      ]
    },
    {
      "cell_type": "code",
      "source": [
        "# Q18. Create a class House with attributes address and price. Create a derived class Mansion that adds an\n",
        "# attribute number_of_rooms.\n",
        "'''\n",
        "# Base class\n",
        "class House:\n",
        "    def __init__(self, address, price):\n",
        "        self.address = address\n",
        "        self.price = price\n",
        "\n",
        "    def show_details(self):\n",
        "        print(f\"Address: {self.address}\")\n",
        "        print(f\"Price: ₹{self.price}\")\n",
        "\n",
        "# Derived class\n",
        "class Mansion(House):\n",
        "    def __init__(self, address, price, number_of_rooms):\n",
        "        super().__init__(address, price)\n",
        "        self.number_of_rooms = number_of_rooms\n",
        "\n",
        "    def show_details(self):\n",
        "        super().show_details()\n",
        "        print(f\"Number of Rooms: {self.number_of_rooms}\")\n",
        "\n",
        "# Example usage\n",
        "m1 = Mansion(\"123 Royal Lane, Shimla\", 50000000, 12)\n",
        "m1.show_details()\n",
        "'''"
      ],
      "metadata": {
        "colab": {
          "base_uri": "https://localhost:8080/"
        },
        "id": "9CgAcr_jFOHp",
        "outputId": "cfd4681a-a20c-4a86-8037-2b9f427ef575"
      },
      "execution_count": 21,
      "outputs": [
        {
          "output_type": "stream",
          "name": "stdout",
          "text": [
            "Address: 123 Royal Lane, Shimla\n",
            "Price: ₹50000000\n",
            "Number of Rooms: 12\n"
          ]
        }
      ]
    },
    {
      "cell_type": "code",
      "source": [],
      "metadata": {
        "id": "570VpljeI6DX"
      },
      "execution_count": null,
      "outputs": []
    }
  ]
}